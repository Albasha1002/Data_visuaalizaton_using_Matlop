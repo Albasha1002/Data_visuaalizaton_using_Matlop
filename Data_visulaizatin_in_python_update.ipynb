{
  "nbformat": 4,
  "nbformat_minor": 0,
  "metadata": {
    "colab": {
      "provenance": []
    },
    "kernelspec": {
      "name": "python3",
      "display_name": "Python 3"
    },
    "language_info": {
      "name": "python"
    }
  },
  "cells": [
    {
      "cell_type": "code",
      "execution_count": 4,
      "metadata": {
        "id": "gpPj78t5s6KP"
      },
      "outputs": [],
      "source": [
        "import matplotlib.pyplot as plt"
      ]
    },
    {
      "cell_type": "code",
      "source": [
        "import numpy as np"
      ],
      "metadata": {
        "id": "FqGlPaZWtH2I"
      },
      "execution_count": 2,
      "outputs": []
    },
    {
      "cell_type": "code",
      "source": [
        "import pandas as npd"
      ],
      "metadata": {
        "id": "nTlbTJbjtKXL"
      },
      "execution_count": 3,
      "outputs": []
    },
    {
      "cell_type": "code",
      "source": [
        "plt.plot([1,2,3],[2,4,6])"
      ],
      "metadata": {
        "colab": {
          "base_uri": "https://localhost:8080/",
          "height": 282
        },
        "id": "QIur3UFxtM6a",
        "outputId": "993f22be-2eaf-452a-be7b-def3efb55a53"
      },
      "execution_count": 5,
      "outputs": [
        {
          "output_type": "execute_result",
          "data": {
            "text/plain": [
              "[<matplotlib.lines.Line2D at 0x7fcebcec2b50>]"
            ]
          },
          "metadata": {},
          "execution_count": 5
        },
        {
          "output_type": "display_data",
          "data": {
            "text/plain": [
              "<Figure size 432x288 with 1 Axes>"
            ],
            "image/png": "[encoded data removed]"
          },
          "metadata": {
            "needs_background": "light"
          }
        }
      ]
    },
    {
      "cell_type": "code",
      "source": [
        "x=[1,2,3]\n",
        "y=[2,4,6]"
      ],
      "metadata": {
        "id": "jrv4gxvxtkF8"
      },
      "execution_count": 6,
      "outputs": []
    },
    {
      "cell_type": "code",
      "source": [
        "#Key argument notation\n",
        "\n",
        "#plt.plot(x,y,label='2x',color='red',linewidth=2, marker='.',markersize=10, markeredgecolor='blue', linestyle='--')\n",
        "#instead of above line\n",
        "plt.plot(x,y,'b^--',label='2x')\n",
        "\n",
        "# Resize your Graph\n",
        "#plt.figure(figsize=(5,3, dpi=300)\n",
        "\n",
        "#Line Number Two\n",
        "import numpy as np\n",
        "#select\n",
        "x2=np.arange(0,4.5,0.5)\n",
        "plt.plot(x2[:5],x2[:5]**2,'r',label='X^2')\n",
        "\n",
        "plt.plot(x2[4:], x2[4:]**2,'r--')\n",
        "\n",
        "\n",
        "plt.title('our first graph' , fontdict={'fontname':'Comic Sans Ms', 'fontsize':20})\n",
        "plt.xlabel('X Axis')\n",
        "plt.ylabel('Y Axis')\n",
        "#plt.xticks([0,1,2,3,4,5])\n",
        "#plt.yticks([0,2,3,4,6,8])\n",
        "plt.legend()\n",
        "plt.savefig('mygraph.png', dpi=200)\n",
        "plt.show()"
      ],
      "metadata": {
        "colab": {
          "base_uri": "https://localhost:8080/",
          "height": 300
        },
        "id": "kIVfgnCQtwdx",
        "outputId": "42e4ae7e-bc58-41e7-e739-e37ea4889050"
      },
      "execution_count": 54,
      "outputs": [
        {
          "output_type": "display_data",
          "data": {
            "text/plain": [
              "<Figure size 432x288 with 1 Axes>"
            ],
            "image/png": "[encoded data removed]"
          },
          "metadata": {
            "needs_background": "light"
          }
        }
      ]
    },
    {
      "cell_type": "code",
      "source": [],
      "metadata": {
        "id": "4lEecEj3FQ8N"
      },
      "execution_count": 55,
      "outputs": []
    },
    {
      "cell_type": "code",
      "source": [
        "\n",
        "labels=['A','B','C']\n",
        "values=[1,4,2]\n",
        "#if you give it as values, label it does not work\n",
        "bars=plt.bar(labels, values)\n",
        "patterns=['/','O','*']\n",
        "\n",
        "for bar in bars:\n",
        "  bar.set_hatch(patterns.pop(0))\n",
        "# bars[0].set_hatch('/')\n",
        "# bars[1].set_hatch('O')\n",
        "# bars[2].set_hatch('*')\n",
        "plt.figure(figsize=(6,4))\n",
        "\n",
        "plt.show()"
      ],
      "metadata": {
        "colab": {
          "base_uri": "https://localhost:8080/",
          "height": 282
        },
        "id": "7Ft2zNGWuKZn",
        "outputId": "09a16f21-8e85-4699-d490-7f4d98df9698"
      },
      "execution_count": 73,
      "outputs": [
        {
          "output_type": "display_data",
          "data": {
            "text/plain": [
              "<Figure size 432x288 with 1 Axes>"
            ],
            "image/png": "[encoded data removed]"
          },
          "metadata": {
            "needs_background": "light"
          }
        },
        {
          "output_type": "display_data",
          "data": {
            "text/plain": [
              "<Figure size 432x288 with 0 Axes>"
            ]
          },
          "metadata": {}
        }
      ]
    },
    {
      "cell_type": "code",
      "source": [],
      "metadata": {
        "colab": {
          "base_uri": "https://localhost:8080/",
          "height": 52
        },
        "id": "i5_ICtIsFeVU",
        "outputId": "81aec99c-6b66-4382-ee3f-65805c1ec705"
      },
      "execution_count": 60,
      "outputs": [
        {
          "output_type": "execute_result",
          "data": {
            "text/plain": [
              "<Figure size 432x288 with 0 Axes>"
            ]
          },
          "metadata": {},
          "execution_count": 60
        },
        {
          "output_type": "display_data",
          "data": {
            "text/plain": [
              "<Figure size 432x288 with 0 Axes>"
            ]
          },
          "metadata": {}
        }
      ]
    },
    {
      "cell_type": "code",
      "source": [],
      "metadata": {
        "id": "NOOTFNO2GAsY"
      },
      "execution_count": null,
      "outputs": []
    }
  ]
}